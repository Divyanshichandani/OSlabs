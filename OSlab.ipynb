{
  "nbformat": 4,
  "nbformat_minor": 0,
  "metadata": {
    "colab": {
      "provenance": [],
      "authorship_tag": "ABX9TyOhL9qZ4lJuGL9E7j5T3MQK",
      "include_colab_link": true
    },
    "kernelspec": {
      "name": "python3",
      "display_name": "Python 3"
    },
    "language_info": {
      "name": "python"
    }
  },
  "cells": [
    {
      "cell_type": "markdown",
      "metadata": {
        "id": "view-in-github",
        "colab_type": "text"
      },
      "source": [
        "<a href=\"https://colab.research.google.com/github/Divyanshichandani/OSlabs/blob/main/OSlab.ipynb\" target=\"_parent\"><img src=\"https://colab.research.google.com/assets/colab-badge.svg\" alt=\"Open In Colab\"/></a>"
      ]
    },
    {
      "cell_type": "code",
      "execution_count": 1,
      "metadata": {
        "colab": {
          "base_uri": "https://localhost:8080/"
        },
        "id": "lI8ufa4jmv1i",
        "outputId": "c73e0ffd-4803-4799-ce17-b71fec23983d"
      },
      "outputs": [
        {
          "output_type": "stream",
          "name": "stdout",
          "text": [
            "2\n"
          ]
        }
      ],
      "source": [
        "!nproc"
      ]
    },
    {
      "cell_type": "code",
      "source": [
        "!nproc --all"
      ],
      "metadata": {
        "colab": {
          "base_uri": "https://localhost:8080/"
        },
        "id": "37F6vi05nLLz",
        "outputId": "d40f6772-47d0-45ad-de88-e00bbbf0c93d"
      },
      "execution_count": 2,
      "outputs": [
        {
          "output_type": "stream",
          "name": "stdout",
          "text": [
            "2\n"
          ]
        }
      ]
    },
    {
      "cell_type": "code",
      "source": [
        "!lscpu\n"
      ],
      "metadata": {
        "colab": {
          "base_uri": "https://localhost:8080/"
        },
        "id": "jNxcePI5nN26",
        "outputId": "0247a4ab-0797-47ea-909a-2187809e0e9b"
      },
      "execution_count": 3,
      "outputs": [
        {
          "output_type": "stream",
          "name": "stdout",
          "text": [
            "Architecture:             x86_64\n",
            "  CPU op-mode(s):         32-bit, 64-bit\n",
            "  Address sizes:          46 bits physical, 48 bits virtual\n",
            "  Byte Order:             Little Endian\n",
            "CPU(s):                   2\n",
            "  On-line CPU(s) list:    0,1\n",
            "Vendor ID:                GenuineIntel\n",
            "  Model name:             Intel(R) Xeon(R) CPU @ 2.20GHz\n",
            "    CPU family:           6\n",
            "    Model:                79\n",
            "    Thread(s) per core:   2\n",
            "    Core(s) per socket:   1\n",
            "    Socket(s):            1\n",
            "    Stepping:             0\n",
            "    BogoMIPS:             4399.99\n",
            "    Flags:                fpu vme de pse tsc msr pae mce cx8 apic sep mtrr pge mca cmov pat pse36 cl\n",
            "                          flush mmx fxsr sse sse2 ss ht syscall nx pdpe1gb rdtscp lm constant_tsc re\n",
            "                          p_good nopl xtopology nonstop_tsc cpuid tsc_known_freq pni pclmulqdq ssse3\n",
            "                           fma cx16 pcid sse4_1 sse4_2 x2apic movbe popcnt aes xsave avx f16c rdrand\n",
            "                           hypervisor lahf_lm abm 3dnowprefetch invpcid_single ssbd ibrs ibpb stibp \n",
            "                          fsgsbase tsc_adjust bmi1 hle avx2 smep bmi2 erms invpcid rtm rdseed adx sm\n",
            "                          ap xsaveopt arat md_clear arch_capabilities\n",
            "Virtualization features:  \n",
            "  Hypervisor vendor:      KVM\n",
            "  Virtualization type:    full\n",
            "Caches (sum of all):      \n",
            "  L1d:                    32 KiB (1 instance)\n",
            "  L1i:                    32 KiB (1 instance)\n",
            "  L2:                     256 KiB (1 instance)\n",
            "  L3:                     55 MiB (1 instance)\n",
            "NUMA:                     \n",
            "  NUMA node(s):           1\n",
            "  NUMA node0 CPU(s):      0,1\n",
            "Vulnerabilities:          \n",
            "  Gather data sampling:   Not affected\n",
            "  Itlb multihit:          Not affected\n",
            "  L1tf:                   Mitigation; PTE Inversion\n",
            "  Mds:                    Vulnerable; SMT Host state unknown\n",
            "  Meltdown:               Vulnerable\n",
            "  Mmio stale data:        Vulnerable\n",
            "  Reg file data sampling: Not affected\n",
            "  Retbleed:               Vulnerable\n",
            "  Spec rstack overflow:   Not affected\n",
            "  Spec store bypass:      Vulnerable\n",
            "  Spectre v1:             Vulnerable: __user pointer sanitization and usercopy barriers only; no swa\n",
            "                          pgs barriers\n",
            "  Spectre v2:             Vulnerable; IBPB: disabled; STIBP: disabled; PBRSB-eIBRS: Not affected; BH\n",
            "                          I: Vulnerable (Syscall hardening enabled)\n",
            "  Srbds:                  Not affected\n",
            "  Tsx async abort:        Vulnerable\n"
          ]
        }
      ]
    },
    {
      "cell_type": "code",
      "source": [
        "# CPP Program to find sum of array\n",
        "%%writefile sum_thread.cpp\n",
        "\n",
        "#include <iostream>\n",
        "#include <pthread.h>\n",
        "\n",
        "// size of array\n",
        "#define MAX 16\n",
        "\n",
        "// maximum number of threads\n",
        "#define MAX_THREAD 4\n",
        "\n",
        "using namespace std;\n",
        "\n",
        "int a[] = { 1, 5, 7, 10, 12, 14, 15, 18, 20, 22, 25, 27, 30, 64, 110, 220 };\n",
        "int sum[4] = { 0 };\n",
        "int part = 0;\n",
        "\n",
        "void* sum_array(void* arg)\n",
        "{\n",
        "\n",
        "\t//# Each thread computes sum of 1/4th of array\n",
        "\tint thread_part = part++;\n",
        "\n",
        "\tfor (int i = thread_part * (MAX / 4); i < (thread_part + 1) * (MAX / 4); i++)\n",
        "\t\tsum[thread_part] += a[i];\n",
        "}\n",
        "\n",
        "// Driver Code\n",
        "int main()\n",
        "{\n",
        "\n",
        "\tpthread_t threads[MAX_THREAD];\n",
        "\n",
        "\t// Creating 4 threads\n",
        "\tfor (int i = 0; i < MAX_THREAD; i++)\n",
        "\t\tpthread_create(&threads[i], NULL, sum_array, (void*)NULL);\n",
        "\n",
        "\t// joining 4 threads i.e. waiting for all 4 threads to complete\n",
        "\tfor (int i = 0; i < MAX_THREAD; i++)\n",
        "\t\tpthread_join(threads[i], NULL);\n",
        "\n",
        "\t// adding sum of all 4 parts\n",
        "\tint total_sum = 0;\n",
        "\tfor (int i = 0; i < MAX_THREAD; i++)\n",
        "\t\ttotal_sum += sum[i];\n",
        "\n",
        "\tcout << \"sum is \" << total_sum << endl;\n",
        "\n",
        "\treturn 0;\n",
        "}\n"
      ],
      "metadata": {
        "colab": {
          "base_uri": "https://localhost:8080/"
        },
        "id": "JA9KJRcznTYP",
        "outputId": "449c7fa6-4683-4f75-cb29-56cd07014083"
      },
      "execution_count": 4,
      "outputs": [
        {
          "output_type": "stream",
          "name": "stdout",
          "text": [
            "Writing sum_thread.cpp\n"
          ]
        }
      ]
    },
    {
      "cell_type": "code",
      "source": [
        "%%bash\n",
        "\n",
        "g++ sum_thread.cpp -o sum_thread\n",
        "./sum_thread\n",
        "\n"
      ],
      "metadata": {
        "colab": {
          "base_uri": "https://localhost:8080/"
        },
        "id": "F71J7ZVSniOJ",
        "outputId": "d1256e8a-e2e5-40bf-9492-8c5423e4b0f9"
      },
      "execution_count": 5,
      "outputs": [
        {
          "output_type": "stream",
          "name": "stdout",
          "text": [
            "sum is 600\n"
          ]
        },
        {
          "output_type": "stream",
          "name": "stderr",
          "text": [
            "sum_thread.cpp: In function ‘void* sum_array(void*)’:\n",
            "sum_thread.cpp:25:1: warning: no return statement in function returning non-void [-Wreturn-type]\n",
            "   25 | }\n",
            "      | ^\n"
          ]
        }
      ]
    },
    {
      "cell_type": "code",
      "source": [
        "# %%writefile sum_thread.cpp\n",
        "# #include<iostream>\n",
        "# using namespace std;\n",
        "# int main(){\n",
        "#     cout<<\"Hello World\";\n",
        "#     return 0;\n",
        "# }\n",
        "# int naturalNumbers[SIZE]; // Declare the array\n",
        "\n",
        "#     // Fill the array with natural numbers\n",
        "#     for (int i = 0; i < SIZE; i++) {\n",
        "#         naturalNumbers[i] = i + 1; // Natural numbers start from 1\n",
        "#     }"
      ],
      "metadata": {
        "id": "Tsd3Kcvinn3K"
      },
      "execution_count": 6,
      "outputs": []
    }
  ]
}